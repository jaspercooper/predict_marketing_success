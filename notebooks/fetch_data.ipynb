{
 "cells": [
  {
   "cell_type": "markdown",
   "id": "979d19f78a5d96ea",
   "metadata": {},
   "source": [
    "# Fetch Data\n",
    "\n",
    "This project relies on [explain here: data sources it uses]\n",
    "\n",
    "Explain basic methodology:\n",
    "- functions all live as a package under scripts\n",
    "- actual concrete processing steps done one-by-one in this notebook\n",
    "- then once it's done, turn it into a function that goes in the package\n",
    "- keep the notebook very high level"
   ]
  },
  {
   "metadata": {},
   "cell_type": "markdown",
   "source": "## Fetching SAM UEI data",
   "id": "90a22037b262f3aa"
  },
  {
   "metadata": {},
   "cell_type": "markdown",
   "source": "Read in functions from `fetch_firm_ueis` submodule.",
   "id": "44e3d5811f0a241d"
  },
  {
   "metadata": {
    "ExecuteTime": {
     "end_time": "2024-12-15T21:30:12.589598Z",
     "start_time": "2024-12-15T21:30:11.426787Z"
    }
   },
   "cell_type": "code",
   "source": "from scripts.data_fetchers.fetch_firm_ueis import read_sam_json, fetch_sam_data, square_and_clean_SAM_JSON",
   "id": "10e5b405f1204c7c",
   "outputs": [
    {
     "name": "stderr",
     "output_type": "stream",
     "text": [
      "\u001B[32m2024-12-15 13:30:11.477\u001B[0m | \u001B[1mINFO    \u001B[0m | \u001B[36mscripts.config\u001B[0m:\u001B[36m<module>\u001B[0m:\u001B[36m11\u001B[0m - \u001B[1mPROJ_ROOT path is: /Users/jaspercooper/Dropbox/01_Projects/01_python_projects/predict_marketing_success\u001B[0m\n"
     ]
    }
   ],
   "execution_count": 1
  },
  {
   "metadata": {},
   "cell_type": "markdown",
   "source": [
    "This function sends a query to the SAM entity management API that gets all currently active 8(a) firms. Because 8(a) firms are, by definition, in the US and small businesses, a lot of the filtering is taken care of simply by specifying that they are 8(a)-certified, so the request is quite minimal.\n",
    "\n",
    "This function outputs a JSON file into the raw data folder.\n",
    "\n",
    "### FIX: API query currently only pulling 10 records\n",
    "Need to figure out how to get API bulk-downloading the csv\n"
   ],
   "id": "5d0fb4a520f8f6b8"
  },
  {
   "metadata": {
    "ExecuteTime": {
     "end_time": "2024-12-15T21:29:18.980612Z",
     "start_time": "2024-12-15T21:29:18.546652Z"
    }
   },
   "cell_type": "code",
   "source": "fetch_sam_data()",
   "id": "be489228ef8d4495",
   "outputs": [
    {
     "name": "stdout",
     "output_type": "stream",
     "text": [
      "{'error': {'code': 'OVER_RATE_LIMIT', 'message': 'The API key has exceeded the rate limits.'}}\n"
     ]
    }
   ],
   "execution_count": 7
  },
  {
   "metadata": {},
   "cell_type": "markdown",
   "source": "This function reads in the JSON data downloaded in the previous step",
   "id": "d79026a3d4e8a1db"
  },
  {
   "metadata": {
    "ExecuteTime": {
     "end_time": "2024-12-15T21:31:02.537188Z",
     "start_time": "2024-12-15T21:31:02.521534Z"
    }
   },
   "cell_type": "code",
   "source": "data = read_sam_json()",
   "id": "42ff3fdd97dda79b",
   "outputs": [
    {
     "name": "stdout",
     "output_type": "stream",
     "text": [
      "JSON has the following keys: totalRecords, entityData, links\n"
     ]
    }
   ],
   "execution_count": 3
  },
  {
   "metadata": {},
   "cell_type": "markdown",
   "source": "This function reformats the data as a pandas dataframe and cleans out the lengthy prefixes from the column names.",
   "id": "a84be0765498b47b"
  },
  {
   "metadata": {
    "ExecuteTime": {
     "end_time": "2024-12-15T21:31:06.310617Z",
     "start_time": "2024-12-15T21:31:06.289133Z"
    }
   },
   "cell_type": "code",
   "source": "df = square_and_clean_SAM_JSON(data)",
   "id": "8f9abe86ac0f863e",
   "outputs": [
    {
     "name": "stdout",
     "output_type": "stream",
     "text": [
      "Extracted entity data from JSON\n",
      "Flattened JSON to df\n",
      "Created a dataset with dimensions (10, 131) and the following keys: samRegistered, ueiSAM, entityEFTIndicator, cageCode, dodaac, legalBusinessName, dbaName, purposeOfRegistrationCode, purposeOfRegistrationDesc, registrationStatus, registrationDate, lastUpdateDate, registrationExpirationDate, activationDate, ueiStatus, ueiExpirationDate, ueiCreationDate, noPublicDisplayFlag, exclusionStatusFlag, exclusionURL, dnbOpenData, entityURL, entityDivisionName, entityDivisionNumber, entityStartDate, fiscalYearEndCloseDate, submissionDate, addressLine1, addressLine2, city, stateOrProvinceCode, zipCode, zipCodePlus4, countryCode, addressLine1, addressLine2, city, stateOrProvinceCode, zipCode, zipCodePlus4, countryCode, congressionalDistrict, entityStructureCode, entityStructureDesc, entityTypeCode, entityTypeDesc, profitStructureCode, profitStructureDesc, organizationStructureCode, organizationStructureDesc, stateOfIncorporationCode, stateOfIncorporationDesc, countryOfIncorporationCode, countryOfIncorporationDesc, businessTypeList, sbaBusinessTypeList, creditCardUsage, debtSubjectToOffset, primaryNaics, naicsList, pscList, disasterRegistryFlag, bondingFlag, geographicalAreaServed, ediInformationFlag, firstName, middleInitial, lastName, title, addressLine1, addressLine2, city, stateOrProvinceCode, zipCode, zipCodePlus4, countryCode, firstName, middleInitial, lastName, title, addressLine1, addressLine2, city, stateOrProvinceCode, zipCode, zipCodePlus4, countryCode, firstName, middleInitial, lastName, title, addressLine1, addressLine2, city, stateOrProvinceCode, zipCode, zipCodePlus4, countryCode, firstName, middleInitial, lastName, title, addressLine1, addressLine2, city, stateOrProvinceCode, zipCode, zipCodePlus4, countryCode, firstName, middleInitial, lastName, title, addressLine1, addressLine2, city, stateOrProvinceCode, zipCode, zipCodePlus4, countryCode, firstName, middleInitial, lastName, title, addressLine1, addressLine2, city, stateOrProvinceCode, zipCode, zipCodePlus4, countryCode\n"
     ]
    }
   ],
   "execution_count": 4
  },
  {
   "metadata": {
    "ExecuteTime": {
     "end_time": "2024-12-15T21:01:49.684997Z",
     "start_time": "2024-12-15T21:01:49.637614Z"
    }
   },
   "cell_type": "code",
   "source": "df.head()",
   "id": "de81c83facbb0951",
   "outputs": [
    {
     "data": {
      "text/plain": [
       "  samRegistered        ueiSAM entityEFTIndicator cageCode dodaac  \\\n",
       "0           Yes  TKB9GELBZGG4               None    9YNT8   None   \n",
       "1           Yes  XTDKG6B4XL11               None    9YCT5   None   \n",
       "2           Yes  XTT4DAG5BEN5               None    9YDQ7   None   \n",
       "3           Yes  VQ3VALRQTYK5               None    9YCM3   None   \n",
       "4           Yes  PTR8P6WK3F74               None    9XV39   None   \n",
       "\n",
       "                        legalBusinessName dbaName purposeOfRegistrationCode  \\\n",
       "0                 CASBRO DEVELOPMENT, LLC    None                        Z2   \n",
       "1         CHOCTAW ADVANTAGE SOLUTIONS LLC    None                        Z2   \n",
       "2          CHOCTAW MISSION OPERATIONS LLC    None                        Z2   \n",
       "3  MIDNIGHT SUN FEDERAL CONSTRUCTION, LLC    None                        Z2   \n",
       "4          ADVANCED CHENEGA SERVICES, LLC    None                        Z2   \n",
       "\n",
       "  purposeOfRegistrationDesc registrationStatus  ... middleInitial lastName  \\\n",
       "0                All Awards             Active  ...          None     None   \n",
       "1                All Awards             Active  ...          None     Kost   \n",
       "2                All Awards             Active  ...          None     Kern   \n",
       "3                All Awards             Active  ...          None     None   \n",
       "4                All Awards             Active  ...          None   Rankin   \n",
       "\n",
       "       title                    addressLine1 addressLine2    city  \\\n",
       "0       None                            None         None    None   \n",
       "1  President             435 E Sandstone RD     STE 100 N  Durant   \n",
       "2  President              435 E Sandstone RD    STE 100 M  Durant   \n",
       "3       None                            None         None    None   \n",
       "4       None  1 E. Uwchlan Avenue, Suite 407         None   Exton   \n",
       "\n",
       "  stateOrProvinceCode zipCode zipCodePlus4 countryCode  \n",
       "0                None    None         None        None  \n",
       "1                  OK   74701         None         USA  \n",
       "2                  OK   74701         None         USA  \n",
       "3                None    None         None        None  \n",
       "4                  PA   19341         None         USA  \n",
       "\n",
       "[5 rows x 131 columns]"
      ],
      "text/html": [
       "<div>\n",
       "<style scoped>\n",
       "    .dataframe tbody tr th:only-of-type {\n",
       "        vertical-align: middle;\n",
       "    }\n",
       "\n",
       "    .dataframe tbody tr th {\n",
       "        vertical-align: top;\n",
       "    }\n",
       "\n",
       "    .dataframe thead th {\n",
       "        text-align: right;\n",
       "    }\n",
       "</style>\n",
       "<table border=\"1\" class=\"dataframe\">\n",
       "  <thead>\n",
       "    <tr style=\"text-align: right;\">\n",
       "      <th></th>\n",
       "      <th>samRegistered</th>\n",
       "      <th>ueiSAM</th>\n",
       "      <th>entityEFTIndicator</th>\n",
       "      <th>cageCode</th>\n",
       "      <th>dodaac</th>\n",
       "      <th>legalBusinessName</th>\n",
       "      <th>dbaName</th>\n",
       "      <th>purposeOfRegistrationCode</th>\n",
       "      <th>purposeOfRegistrationDesc</th>\n",
       "      <th>registrationStatus</th>\n",
       "      <th>...</th>\n",
       "      <th>middleInitial</th>\n",
       "      <th>lastName</th>\n",
       "      <th>title</th>\n",
       "      <th>addressLine1</th>\n",
       "      <th>addressLine2</th>\n",
       "      <th>city</th>\n",
       "      <th>stateOrProvinceCode</th>\n",
       "      <th>zipCode</th>\n",
       "      <th>zipCodePlus4</th>\n",
       "      <th>countryCode</th>\n",
       "    </tr>\n",
       "  </thead>\n",
       "  <tbody>\n",
       "    <tr>\n",
       "      <th>0</th>\n",
       "      <td>Yes</td>\n",
       "      <td>TKB9GELBZGG4</td>\n",
       "      <td>None</td>\n",
       "      <td>9YNT8</td>\n",
       "      <td>None</td>\n",
       "      <td>CASBRO DEVELOPMENT, LLC</td>\n",
       "      <td>None</td>\n",
       "      <td>Z2</td>\n",
       "      <td>All Awards</td>\n",
       "      <td>Active</td>\n",
       "      <td>...</td>\n",
       "      <td>None</td>\n",
       "      <td>None</td>\n",
       "      <td>None</td>\n",
       "      <td>None</td>\n",
       "      <td>None</td>\n",
       "      <td>None</td>\n",
       "      <td>None</td>\n",
       "      <td>None</td>\n",
       "      <td>None</td>\n",
       "      <td>None</td>\n",
       "    </tr>\n",
       "    <tr>\n",
       "      <th>1</th>\n",
       "      <td>Yes</td>\n",
       "      <td>XTDKG6B4XL11</td>\n",
       "      <td>None</td>\n",
       "      <td>9YCT5</td>\n",
       "      <td>None</td>\n",
       "      <td>CHOCTAW ADVANTAGE SOLUTIONS LLC</td>\n",
       "      <td>None</td>\n",
       "      <td>Z2</td>\n",
       "      <td>All Awards</td>\n",
       "      <td>Active</td>\n",
       "      <td>...</td>\n",
       "      <td>None</td>\n",
       "      <td>Kost</td>\n",
       "      <td>President</td>\n",
       "      <td>435 E Sandstone RD</td>\n",
       "      <td>STE 100 N</td>\n",
       "      <td>Durant</td>\n",
       "      <td>OK</td>\n",
       "      <td>74701</td>\n",
       "      <td>None</td>\n",
       "      <td>USA</td>\n",
       "    </tr>\n",
       "    <tr>\n",
       "      <th>2</th>\n",
       "      <td>Yes</td>\n",
       "      <td>XTT4DAG5BEN5</td>\n",
       "      <td>None</td>\n",
       "      <td>9YDQ7</td>\n",
       "      <td>None</td>\n",
       "      <td>CHOCTAW MISSION OPERATIONS LLC</td>\n",
       "      <td>None</td>\n",
       "      <td>Z2</td>\n",
       "      <td>All Awards</td>\n",
       "      <td>Active</td>\n",
       "      <td>...</td>\n",
       "      <td>None</td>\n",
       "      <td>Kern</td>\n",
       "      <td>President</td>\n",
       "      <td>435 E Sandstone RD</td>\n",
       "      <td>STE 100 M</td>\n",
       "      <td>Durant</td>\n",
       "      <td>OK</td>\n",
       "      <td>74701</td>\n",
       "      <td>None</td>\n",
       "      <td>USA</td>\n",
       "    </tr>\n",
       "    <tr>\n",
       "      <th>3</th>\n",
       "      <td>Yes</td>\n",
       "      <td>VQ3VALRQTYK5</td>\n",
       "      <td>None</td>\n",
       "      <td>9YCM3</td>\n",
       "      <td>None</td>\n",
       "      <td>MIDNIGHT SUN FEDERAL CONSTRUCTION, LLC</td>\n",
       "      <td>None</td>\n",
       "      <td>Z2</td>\n",
       "      <td>All Awards</td>\n",
       "      <td>Active</td>\n",
       "      <td>...</td>\n",
       "      <td>None</td>\n",
       "      <td>None</td>\n",
       "      <td>None</td>\n",
       "      <td>None</td>\n",
       "      <td>None</td>\n",
       "      <td>None</td>\n",
       "      <td>None</td>\n",
       "      <td>None</td>\n",
       "      <td>None</td>\n",
       "      <td>None</td>\n",
       "    </tr>\n",
       "    <tr>\n",
       "      <th>4</th>\n",
       "      <td>Yes</td>\n",
       "      <td>PTR8P6WK3F74</td>\n",
       "      <td>None</td>\n",
       "      <td>9XV39</td>\n",
       "      <td>None</td>\n",
       "      <td>ADVANCED CHENEGA SERVICES, LLC</td>\n",
       "      <td>None</td>\n",
       "      <td>Z2</td>\n",
       "      <td>All Awards</td>\n",
       "      <td>Active</td>\n",
       "      <td>...</td>\n",
       "      <td>None</td>\n",
       "      <td>Rankin</td>\n",
       "      <td>None</td>\n",
       "      <td>1 E. Uwchlan Avenue, Suite 407</td>\n",
       "      <td>None</td>\n",
       "      <td>Exton</td>\n",
       "      <td>PA</td>\n",
       "      <td>19341</td>\n",
       "      <td>None</td>\n",
       "      <td>USA</td>\n",
       "    </tr>\n",
       "  </tbody>\n",
       "</table>\n",
       "<p>5 rows × 131 columns</p>\n",
       "</div>"
      ]
     },
     "execution_count": 5,
     "metadata": {},
     "output_type": "execute_result"
    }
   ],
   "execution_count": 5
  },
  {
   "metadata": {},
   "cell_type": "markdown",
   "source": "Output the data to csv format\n",
   "id": "db628d02aef402fb"
  },
  {
   "metadata": {
    "ExecuteTime": {
     "end_time": "2024-12-15T21:02:02.958769Z",
     "start_time": "2024-12-15T21:02:02.944118Z"
    }
   },
   "cell_type": "code",
   "source": [
    "from scripts.config import INTERIM_DATA_DIR\n",
    "df.to_csv(f'{INTERIM_DATA_DIR}/sam_entity_data.csv', index=False)"
   ],
   "id": "243503501394773b",
   "outputs": [],
   "execution_count": 6
  },
  {
   "metadata": {},
   "cell_type": "markdown",
   "source": "# Fetch USAspending data on awards to 8(a) firms",
   "id": "35ca3c0bfd1463d2"
  },
  {
   "metadata": {},
   "cell_type": "markdown",
   "source": "This is the code to use once the API request issue above is resolved:",
   "id": "1a47247839227c98"
  },
  {
   "metadata": {
    "ExecuteTime": {
     "end_time": "2024-12-15T21:36:04.169649Z",
     "start_time": "2024-12-15T21:36:04.157806Z"
    }
   },
   "cell_type": "code",
   "outputs": [],
   "execution_count": 5,
   "source": [
    "# import pandas as pd\n",
    "# from scripts.config import INTERIM_DATA_DIR\n",
    "# df = pd.read_csv(f'{INTERIM_DATA_DIR}/sam_entity_data.csv', usecols= [\"ueiSAM\"])"
   ],
   "id": "33690608f3c105f1"
  },
  {
   "metadata": {},
   "cell_type": "markdown",
   "source": "Pull in data on UEIs of 8(a)s from SAM.gov",
   "id": "781f01827b222f8b"
  },
  {
   "metadata": {
    "ExecuteTime": {
     "end_time": "2024-12-15T23:52:12.367715Z",
     "start_time": "2024-12-15T23:52:11.305803Z"
    }
   },
   "cell_type": "code",
   "source": [
    "import pandas as pd\n",
    "from scripts.config import RAW_DATA_DIR\n",
    "df = pd.read_csv(f'{RAW_DATA_DIR}/raw_uei_data/EntityRegistration-20241215-014119.csv', usecols= [\"Unique Entity ID\"])\n",
    "df.columns = [\"uei\"]"
   ],
   "id": "a95bbd9118c40ab4",
   "outputs": [
    {
     "name": "stderr",
     "output_type": "stream",
     "text": [
      "\u001B[32m2024-12-15 15:52:12.312\u001B[0m | \u001B[1mINFO    \u001B[0m | \u001B[36mscripts.config\u001B[0m:\u001B[36m<module>\u001B[0m:\u001B[36m11\u001B[0m - \u001B[1mPROJ_ROOT path is: /Users/jaspercooper/Dropbox/01_Projects/01_python_projects/predict_marketing_success\u001B[0m\n"
     ]
    }
   ],
   "execution_count": 1
  },
  {
   "metadata": {},
   "cell_type": "markdown",
   "source": "Inspect dataframe",
   "id": "69462924f7031ca"
  },
  {
   "metadata": {
    "ExecuteTime": {
     "end_time": "2024-12-15T21:46:04.883542Z",
     "start_time": "2024-12-15T21:46:04.876135Z"
    }
   },
   "cell_type": "code",
   "source": "df.shape",
   "id": "42f4e4bc7ec9d0dd",
   "outputs": [
    {
     "data": {
      "text/plain": [
       "(5000, 1)"
      ]
     },
     "execution_count": 14,
     "metadata": {},
     "output_type": "execute_result"
    }
   ],
   "execution_count": 14
  },
  {
   "metadata": {},
   "cell_type": "markdown",
   "source": "Grab USAspending data on spending with those firms for past 3 years. The function `fetch_awards()` looks on the API to see whether it can find the info for a given firm using its UEI. When it succesfully retrieves a record, it stores it in a big list of JSON entries.",
   "id": "6d3449c14942cc7d"
  },
  {
   "metadata": {
    "ExecuteTime": {
     "end_time": "2024-12-15T23:41:45.676747Z",
     "start_time": "2024-12-15T23:41:16.623271Z"
    }
   },
   "cell_type": "code",
   "source": [
    "from scripts.data_fetchers.fetch_award_data import fetch_awards\n",
    "\n",
    "# List of UEIs to query\n",
    "ueis = df['uei'].tolist()\n",
    "\n",
    "fetch_awards(ueis = ueis, year = 2022)\n",
    "fetch_awards(ueis = ueis, year = 2023)\n",
    "fetch_awards(ueis = ueis, year = 2024)\n"
   ],
   "id": "e9f7e9477150b642",
   "outputs": [
    {
     "name": "stdout",
     "output_type": "stream",
     "text": [
      "Collected 19 successful responses and 1 unsuccessful responses.\n",
      "successful_responses saved to /Users/jaspercooper/Dropbox/01_Projects/01_python_projects/predict_marketing_success/data/raw/raw_award_data/awards_to_8a_2022.json\n",
      "Collected 19 successful responses and 1 unsuccessful responses.\n",
      "successful_responses saved to /Users/jaspercooper/Dropbox/01_Projects/01_python_projects/predict_marketing_success/data/raw/raw_award_data/awards_to_8a_2023.json\n"
     ]
    }
   ],
   "execution_count": 2
  },
  {
   "metadata": {},
   "cell_type": "markdown",
   "source": "The `concatenate_json_files()` function reads in all the files created in the previous script, then loops through them, turning them into dataframes with the year attached as a variable.",
   "id": "9783347aca310bb5"
  },
  {
   "metadata": {
    "ExecuteTime": {
     "end_time": "2024-12-16T00:19:17.224638Z",
     "start_time": "2024-12-16T00:19:16.107004Z"
    }
   },
   "cell_type": "code",
   "source": [
    "from scripts.config import RAW_DATA_DIR\n",
    "from scripts.data_fetchers.fetch_award_data import concatenate_json_files\n",
    "all_awards = concatenate_json_files(input_dir = f\"{RAW_DATA_DIR}/raw_award_data\")"
   ],
   "id": "53d3706428c7bd55",
   "outputs": [
    {
     "name": "stderr",
     "output_type": "stream",
     "text": [
      "\u001B[32m2024-12-15 16:19:16.170\u001B[0m | \u001B[1mINFO    \u001B[0m | \u001B[36mscripts.config\u001B[0m:\u001B[36m<module>\u001B[0m:\u001B[36m11\u001B[0m - \u001B[1mPROJ_ROOT path is: /Users/jaspercooper/Dropbox/01_Projects/01_python_projects/predict_marketing_success\u001B[0m\n"
     ]
    }
   ],
   "execution_count": 1
  },
  {
   "metadata": {},
   "cell_type": "markdown",
   "source": "Inspect concatenated data",
   "id": "b1305eb7b19361c9"
  },
  {
   "metadata": {
    "ExecuteTime": {
     "end_time": "2024-12-16T00:19:18.773358Z",
     "start_time": "2024-12-16T00:19:18.746650Z"
    }
   },
   "cell_type": "code",
   "source": "all_awards.head()",
   "id": "a69c61a7726f3b52",
   "outputs": [
    {
     "data": {
      "text/plain": [
       "                             recipient_id                               name  \\\n",
       "0  775b7921-5e61-1b97-10bf-6632dd994608-C           EMERGING CONSULTING, LLC   \n",
       "1  d7bef74d-1611-a8fd-ec9c-70668d28d63a-C             KTL COMMUNICATIONS LLC   \n",
       "2  bf277e2b-45d6-1b24-38bb-c1790ccda0e1-C  H & L ENVIRONMENTAL SERVICES, LLC   \n",
       "3  f0974e90-813c-bb5a-74b1-59c0fcf8fbda-C              GSI NORTH AMERICA INC   \n",
       "4  d0241de6-18ac-7596-08f2-c90c556c36b9-C              GSI NORTH AMERICA INC   \n",
       "\n",
       "        duns           uei      amount state_province  year  \n",
       "0  080117665  E2N5TXXYYYP7    20000.00             VA  2022  \n",
       "1  079198829  HHANSGF1ELX3   298255.00             VA  2022  \n",
       "2  964426451  JRRRE11LEM21  1737906.38             NC  2022  \n",
       "3  081267392  K7ZHNF6YJMB3  2894705.00             HI  2022  \n",
       "4  079386548  EHM2NWLJHSJ7        0.00             NJ  2022  "
      ],
      "text/html": [
       "<div>\n",
       "<style scoped>\n",
       "    .dataframe tbody tr th:only-of-type {\n",
       "        vertical-align: middle;\n",
       "    }\n",
       "\n",
       "    .dataframe tbody tr th {\n",
       "        vertical-align: top;\n",
       "    }\n",
       "\n",
       "    .dataframe thead th {\n",
       "        text-align: right;\n",
       "    }\n",
       "</style>\n",
       "<table border=\"1\" class=\"dataframe\">\n",
       "  <thead>\n",
       "    <tr style=\"text-align: right;\">\n",
       "      <th></th>\n",
       "      <th>recipient_id</th>\n",
       "      <th>name</th>\n",
       "      <th>duns</th>\n",
       "      <th>uei</th>\n",
       "      <th>amount</th>\n",
       "      <th>state_province</th>\n",
       "      <th>year</th>\n",
       "    </tr>\n",
       "  </thead>\n",
       "  <tbody>\n",
       "    <tr>\n",
       "      <th>0</th>\n",
       "      <td>775b7921-5e61-1b97-10bf-6632dd994608-C</td>\n",
       "      <td>EMERGING CONSULTING, LLC</td>\n",
       "      <td>080117665</td>\n",
       "      <td>E2N5TXXYYYP7</td>\n",
       "      <td>20000.00</td>\n",
       "      <td>VA</td>\n",
       "      <td>2022</td>\n",
       "    </tr>\n",
       "    <tr>\n",
       "      <th>1</th>\n",
       "      <td>d7bef74d-1611-a8fd-ec9c-70668d28d63a-C</td>\n",
       "      <td>KTL COMMUNICATIONS LLC</td>\n",
       "      <td>079198829</td>\n",
       "      <td>HHANSGF1ELX3</td>\n",
       "      <td>298255.00</td>\n",
       "      <td>VA</td>\n",
       "      <td>2022</td>\n",
       "    </tr>\n",
       "    <tr>\n",
       "      <th>2</th>\n",
       "      <td>bf277e2b-45d6-1b24-38bb-c1790ccda0e1-C</td>\n",
       "      <td>H &amp; L ENVIRONMENTAL SERVICES, LLC</td>\n",
       "      <td>964426451</td>\n",
       "      <td>JRRRE11LEM21</td>\n",
       "      <td>1737906.38</td>\n",
       "      <td>NC</td>\n",
       "      <td>2022</td>\n",
       "    </tr>\n",
       "    <tr>\n",
       "      <th>3</th>\n",
       "      <td>f0974e90-813c-bb5a-74b1-59c0fcf8fbda-C</td>\n",
       "      <td>GSI NORTH AMERICA INC</td>\n",
       "      <td>081267392</td>\n",
       "      <td>K7ZHNF6YJMB3</td>\n",
       "      <td>2894705.00</td>\n",
       "      <td>HI</td>\n",
       "      <td>2022</td>\n",
       "    </tr>\n",
       "    <tr>\n",
       "      <th>4</th>\n",
       "      <td>d0241de6-18ac-7596-08f2-c90c556c36b9-C</td>\n",
       "      <td>GSI NORTH AMERICA INC</td>\n",
       "      <td>079386548</td>\n",
       "      <td>EHM2NWLJHSJ7</td>\n",
       "      <td>0.00</td>\n",
       "      <td>NJ</td>\n",
       "      <td>2022</td>\n",
       "    </tr>\n",
       "  </tbody>\n",
       "</table>\n",
       "</div>"
      ]
     },
     "execution_count": 2,
     "metadata": {},
     "output_type": "execute_result"
    }
   ],
   "execution_count": 2
  },
  {
   "metadata": {},
   "cell_type": "markdown",
   "source": "Output the data as a csv to the interim data folder",
   "id": "a68c36bb1496b50"
  },
  {
   "metadata": {
    "ExecuteTime": {
     "end_time": "2024-12-16T00:34:53.121207Z",
     "start_time": "2024-12-16T00:34:53.101029Z"
    }
   },
   "cell_type": "code",
   "source": [
    "from scripts.config import INTERIM_DATA_DIR\n",
    "all_awards.to_csv(f'{INTERIM_DATA_DIR}/award_data.csv', index=False)"
   ],
   "id": "8cabedfe82e5b9ce",
   "outputs": [],
   "execution_count": 3
  }
 ],
 "metadata": {
  "kernelspec": {
   "display_name": "Python 3 (ipykernel)",
   "language": "python",
   "name": "python3"
  },
  "language_info": {
   "codemirror_mode": {
    "name": "ipython",
    "version": 3
   },
   "file_extension": ".py",
   "mimetype": "text/x-python",
   "name": "python",
   "nbconvert_exporter": "python",
   "pygments_lexer": "ipython3",
   "version": "3.13.1"
  }
 },
 "nbformat": 4,
 "nbformat_minor": 5
}
