{
 "cells": [
  {
   "cell_type": "markdown",
   "id": "979d19f78a5d96ea",
   "metadata": {},
   "source": [
    "# Fetch Data\n",
    "\n",
    "This project relies on [explain here: data sources it uses]\n",
    "\n",
    "Explain basic methodology:\n",
    "- functions all live as a package under scripts\n",
    "- actual concrete processing steps done one-by-one in this notebook\n",
    "- then once it's done, turn it into a function that goes in the package\n",
    "- keep the notebook very high level"
   ]
  },
  {
   "metadata": {},
   "cell_type": "markdown",
   "source": "## Fetching SAM UEI data",
   "id": "90a22037b262f3aa"
  },
  {
   "metadata": {},
   "cell_type": "markdown",
   "source": "Read in functions from `fetch_firm_ueis` submodule.",
   "id": "44e3d5811f0a241d"
  },
  {
   "metadata": {
    "ExecuteTime": {
     "end_time": "2024-12-15T21:30:12.589598Z",
     "start_time": "2024-12-15T21:30:11.426787Z"
    }
   },
   "cell_type": "code",
   "source": "from scripts.data_fetchers.fetch_firm_ueis import read_sam_json, fetch_sam_data, square_and_clean_SAM_JSON",
   "id": "10e5b405f1204c7c",
   "outputs": [
    {
     "name": "stderr",
     "output_type": "stream",
     "text": [
      "\u001B[32m2024-12-15 13:30:11.477\u001B[0m | \u001B[1mINFO    \u001B[0m | \u001B[36mscripts.config\u001B[0m:\u001B[36m<module>\u001B[0m:\u001B[36m11\u001B[0m - \u001B[1mPROJ_ROOT path is: /Users/jaspercooper/Dropbox/01_Projects/01_python_projects/predict_marketing_success\u001B[0m\n"
     ]
    }
   ],
   "execution_count": 1
  },
  {
   "metadata": {},
   "cell_type": "markdown",
   "source": [
    "This function sends a query to the SAM entity management API that gets all currently active 8(a) firms. Because 8(a) firms are, by definition, in the US and small businesses, a lot of the filtering is taken care of simply by specifying that they are 8(a)-certified, so the request is quite minimal.\n",
    "\n",
    "This function outputs a JSON file into the raw data folder.\n",
    "\n",
    "### FIX: API query currently only pulling 10 records\n",
    "Need to figure out how to get API bulk-downloading the csv\n"
   ],
   "id": "5d0fb4a520f8f6b8"
  },
  {
   "metadata": {
    "ExecuteTime": {
     "end_time": "2024-12-15T21:29:18.980612Z",
     "start_time": "2024-12-15T21:29:18.546652Z"
    }
   },
   "cell_type": "code",
   "source": "fetch_sam_data()",
   "id": "be489228ef8d4495",
   "outputs": [
    {
     "name": "stdout",
     "output_type": "stream",
     "text": [
      "{'error': {'code': 'OVER_RATE_LIMIT', 'message': 'The API key has exceeded the rate limits.'}}\n"
     ]
    }
   ],
   "execution_count": 7
  },
  {
   "metadata": {},
   "cell_type": "markdown",
   "source": "This function reads in the JSON data downloaded in the previous step",
   "id": "d79026a3d4e8a1db"
  },
  {
   "metadata": {
    "ExecuteTime": {
     "end_time": "2024-12-15T21:31:02.537188Z",
     "start_time": "2024-12-15T21:31:02.521534Z"
    }
   },
   "cell_type": "code",
   "source": "data = read_sam_json()",
   "id": "42ff3fdd97dda79b",
   "outputs": [
    {
     "name": "stdout",
     "output_type": "stream",
     "text": [
      "JSON has the following keys: totalRecords, entityData, links\n"
     ]
    }
   ],
   "execution_count": 3
  },
  {
   "metadata": {},
   "cell_type": "markdown",
   "source": "This function reformats the data as a pandas dataframe and cleans out the lengthy prefixes from the column names.",
   "id": "a84be0765498b47b"
  },
  {
   "metadata": {
    "ExecuteTime": {
     "end_time": "2024-12-15T21:31:06.310617Z",
     "start_time": "2024-12-15T21:31:06.289133Z"
    }
   },
   "cell_type": "code",
   "source": "df = square_and_clean_SAM_JSON(data)",
   "id": "8f9abe86ac0f863e",
   "outputs": [
    {
     "name": "stdout",
     "output_type": "stream",
     "text": [
      "Extracted entity data from JSON\n",
      "Flattened JSON to df\n",
      "Created a dataset with dimensions (10, 131) and the following keys: samRegistered, ueiSAM, entityEFTIndicator, cageCode, dodaac, legalBusinessName, dbaName, purposeOfRegistrationCode, purposeOfRegistrationDesc, registrationStatus, registrationDate, lastUpdateDate, registrationExpirationDate, activationDate, ueiStatus, ueiExpirationDate, ueiCreationDate, noPublicDisplayFlag, exclusionStatusFlag, exclusionURL, dnbOpenData, entityURL, entityDivisionName, entityDivisionNumber, entityStartDate, fiscalYearEndCloseDate, submissionDate, addressLine1, addressLine2, city, stateOrProvinceCode, zipCode, zipCodePlus4, countryCode, addressLine1, addressLine2, city, stateOrProvinceCode, zipCode, zipCodePlus4, countryCode, congressionalDistrict, entityStructureCode, entityStructureDesc, entityTypeCode, entityTypeDesc, profitStructureCode, profitStructureDesc, organizationStructureCode, organizationStructureDesc, stateOfIncorporationCode, stateOfIncorporationDesc, countryOfIncorporationCode, countryOfIncorporationDesc, businessTypeList, sbaBusinessTypeList, creditCardUsage, debtSubjectToOffset, primaryNaics, naicsList, pscList, disasterRegistryFlag, bondingFlag, geographicalAreaServed, ediInformationFlag, firstName, middleInitial, lastName, title, addressLine1, addressLine2, city, stateOrProvinceCode, zipCode, zipCodePlus4, countryCode, firstName, middleInitial, lastName, title, addressLine1, addressLine2, city, stateOrProvinceCode, zipCode, zipCodePlus4, countryCode, firstName, middleInitial, lastName, title, addressLine1, addressLine2, city, stateOrProvinceCode, zipCode, zipCodePlus4, countryCode, firstName, middleInitial, lastName, title, addressLine1, addressLine2, city, stateOrProvinceCode, zipCode, zipCodePlus4, countryCode, firstName, middleInitial, lastName, title, addressLine1, addressLine2, city, stateOrProvinceCode, zipCode, zipCodePlus4, countryCode, firstName, middleInitial, lastName, title, addressLine1, addressLine2, city, stateOrProvinceCode, zipCode, zipCodePlus4, countryCode\n"
     ]
    }
   ],
   "execution_count": 4
  },
  {
   "metadata": {
    "ExecuteTime": {
     "end_time": "2024-12-15T21:01:49.684997Z",
     "start_time": "2024-12-15T21:01:49.637614Z"
    }
   },
   "cell_type": "code",
   "source": "df.head()",
   "id": "de81c83facbb0951",
   "outputs": [
    {
     "data": {
      "text/plain": [
       "  samRegistered        ueiSAM entityEFTIndicator cageCode dodaac  \\\n",
       "0           Yes  TKB9GELBZGG4               None    9YNT8   None   \n",
       "1           Yes  XTDKG6B4XL11               None    9YCT5   None   \n",
       "2           Yes  XTT4DAG5BEN5               None    9YDQ7   None   \n",
       "3           Yes  VQ3VALRQTYK5               None    9YCM3   None   \n",
       "4           Yes  PTR8P6WK3F74               None    9XV39   None   \n",
       "\n",
       "                        legalBusinessName dbaName purposeOfRegistrationCode  \\\n",
       "0                 CASBRO DEVELOPMENT, LLC    None                        Z2   \n",
       "1         CHOCTAW ADVANTAGE SOLUTIONS LLC    None                        Z2   \n",
       "2          CHOCTAW MISSION OPERATIONS LLC    None                        Z2   \n",
       "3  MIDNIGHT SUN FEDERAL CONSTRUCTION, LLC    None                        Z2   \n",
       "4          ADVANCED CHENEGA SERVICES, LLC    None                        Z2   \n",
       "\n",
       "  purposeOfRegistrationDesc registrationStatus  ... middleInitial lastName  \\\n",
       "0                All Awards             Active  ...          None     None   \n",
       "1                All Awards             Active  ...          None     Kost   \n",
       "2                All Awards             Active  ...          None     Kern   \n",
       "3                All Awards             Active  ...          None     None   \n",
       "4                All Awards             Active  ...          None   Rankin   \n",
       "\n",
       "       title                    addressLine1 addressLine2    city  \\\n",
       "0       None                            None         None    None   \n",
       "1  President             435 E Sandstone RD     STE 100 N  Durant   \n",
       "2  President              435 E Sandstone RD    STE 100 M  Durant   \n",
       "3       None                            None         None    None   \n",
       "4       None  1 E. Uwchlan Avenue, Suite 407         None   Exton   \n",
       "\n",
       "  stateOrProvinceCode zipCode zipCodePlus4 countryCode  \n",
       "0                None    None         None        None  \n",
       "1                  OK   74701         None         USA  \n",
       "2                  OK   74701         None         USA  \n",
       "3                None    None         None        None  \n",
       "4                  PA   19341         None         USA  \n",
       "\n",
       "[5 rows x 131 columns]"
      ],
      "text/html": [
       "<div>\n",
       "<style scoped>\n",
       "    .dataframe tbody tr th:only-of-type {\n",
       "        vertical-align: middle;\n",
       "    }\n",
       "\n",
       "    .dataframe tbody tr th {\n",
       "        vertical-align: top;\n",
       "    }\n",
       "\n",
       "    .dataframe thead th {\n",
       "        text-align: right;\n",
       "    }\n",
       "</style>\n",
       "<table border=\"1\" class=\"dataframe\">\n",
       "  <thead>\n",
       "    <tr style=\"text-align: right;\">\n",
       "      <th></th>\n",
       "      <th>samRegistered</th>\n",
       "      <th>ueiSAM</th>\n",
       "      <th>entityEFTIndicator</th>\n",
       "      <th>cageCode</th>\n",
       "      <th>dodaac</th>\n",
       "      <th>legalBusinessName</th>\n",
       "      <th>dbaName</th>\n",
       "      <th>purposeOfRegistrationCode</th>\n",
       "      <th>purposeOfRegistrationDesc</th>\n",
       "      <th>registrationStatus</th>\n",
       "      <th>...</th>\n",
       "      <th>middleInitial</th>\n",
       "      <th>lastName</th>\n",
       "      <th>title</th>\n",
       "      <th>addressLine1</th>\n",
       "      <th>addressLine2</th>\n",
       "      <th>city</th>\n",
       "      <th>stateOrProvinceCode</th>\n",
       "      <th>zipCode</th>\n",
       "      <th>zipCodePlus4</th>\n",
       "      <th>countryCode</th>\n",
       "    </tr>\n",
       "  </thead>\n",
       "  <tbody>\n",
       "    <tr>\n",
       "      <th>0</th>\n",
       "      <td>Yes</td>\n",
       "      <td>TKB9GELBZGG4</td>\n",
       "      <td>None</td>\n",
       "      <td>9YNT8</td>\n",
       "      <td>None</td>\n",
       "      <td>CASBRO DEVELOPMENT, LLC</td>\n",
       "      <td>None</td>\n",
       "      <td>Z2</td>\n",
       "      <td>All Awards</td>\n",
       "      <td>Active</td>\n",
       "      <td>...</td>\n",
       "      <td>None</td>\n",
       "      <td>None</td>\n",
       "      <td>None</td>\n",
       "      <td>None</td>\n",
       "      <td>None</td>\n",
       "      <td>None</td>\n",
       "      <td>None</td>\n",
       "      <td>None</td>\n",
       "      <td>None</td>\n",
       "      <td>None</td>\n",
       "    </tr>\n",
       "    <tr>\n",
       "      <th>1</th>\n",
       "      <td>Yes</td>\n",
       "      <td>XTDKG6B4XL11</td>\n",
       "      <td>None</td>\n",
       "      <td>9YCT5</td>\n",
       "      <td>None</td>\n",
       "      <td>CHOCTAW ADVANTAGE SOLUTIONS LLC</td>\n",
       "      <td>None</td>\n",
       "      <td>Z2</td>\n",
       "      <td>All Awards</td>\n",
       "      <td>Active</td>\n",
       "      <td>...</td>\n",
       "      <td>None</td>\n",
       "      <td>Kost</td>\n",
       "      <td>President</td>\n",
       "      <td>435 E Sandstone RD</td>\n",
       "      <td>STE 100 N</td>\n",
       "      <td>Durant</td>\n",
       "      <td>OK</td>\n",
       "      <td>74701</td>\n",
       "      <td>None</td>\n",
       "      <td>USA</td>\n",
       "    </tr>\n",
       "    <tr>\n",
       "      <th>2</th>\n",
       "      <td>Yes</td>\n",
       "      <td>XTT4DAG5BEN5</td>\n",
       "      <td>None</td>\n",
       "      <td>9YDQ7</td>\n",
       "      <td>None</td>\n",
       "      <td>CHOCTAW MISSION OPERATIONS LLC</td>\n",
       "      <td>None</td>\n",
       "      <td>Z2</td>\n",
       "      <td>All Awards</td>\n",
       "      <td>Active</td>\n",
       "      <td>...</td>\n",
       "      <td>None</td>\n",
       "      <td>Kern</td>\n",
       "      <td>President</td>\n",
       "      <td>435 E Sandstone RD</td>\n",
       "      <td>STE 100 M</td>\n",
       "      <td>Durant</td>\n",
       "      <td>OK</td>\n",
       "      <td>74701</td>\n",
       "      <td>None</td>\n",
       "      <td>USA</td>\n",
       "    </tr>\n",
       "    <tr>\n",
       "      <th>3</th>\n",
       "      <td>Yes</td>\n",
       "      <td>VQ3VALRQTYK5</td>\n",
       "      <td>None</td>\n",
       "      <td>9YCM3</td>\n",
       "      <td>None</td>\n",
       "      <td>MIDNIGHT SUN FEDERAL CONSTRUCTION, LLC</td>\n",
       "      <td>None</td>\n",
       "      <td>Z2</td>\n",
       "      <td>All Awards</td>\n",
       "      <td>Active</td>\n",
       "      <td>...</td>\n",
       "      <td>None</td>\n",
       "      <td>None</td>\n",
       "      <td>None</td>\n",
       "      <td>None</td>\n",
       "      <td>None</td>\n",
       "      <td>None</td>\n",
       "      <td>None</td>\n",
       "      <td>None</td>\n",
       "      <td>None</td>\n",
       "      <td>None</td>\n",
       "    </tr>\n",
       "    <tr>\n",
       "      <th>4</th>\n",
       "      <td>Yes</td>\n",
       "      <td>PTR8P6WK3F74</td>\n",
       "      <td>None</td>\n",
       "      <td>9XV39</td>\n",
       "      <td>None</td>\n",
       "      <td>ADVANCED CHENEGA SERVICES, LLC</td>\n",
       "      <td>None</td>\n",
       "      <td>Z2</td>\n",
       "      <td>All Awards</td>\n",
       "      <td>Active</td>\n",
       "      <td>...</td>\n",
       "      <td>None</td>\n",
       "      <td>Rankin</td>\n",
       "      <td>None</td>\n",
       "      <td>1 E. Uwchlan Avenue, Suite 407</td>\n",
       "      <td>None</td>\n",
       "      <td>Exton</td>\n",
       "      <td>PA</td>\n",
       "      <td>19341</td>\n",
       "      <td>None</td>\n",
       "      <td>USA</td>\n",
       "    </tr>\n",
       "  </tbody>\n",
       "</table>\n",
       "<p>5 rows × 131 columns</p>\n",
       "</div>"
      ]
     },
     "execution_count": 5,
     "metadata": {},
     "output_type": "execute_result"
    }
   ],
   "execution_count": 5
  },
  {
   "metadata": {},
   "cell_type": "markdown",
   "source": "Output the data to csv format\n",
   "id": "db628d02aef402fb"
  },
  {
   "metadata": {
    "ExecuteTime": {
     "end_time": "2024-12-15T21:02:02.958769Z",
     "start_time": "2024-12-15T21:02:02.944118Z"
    }
   },
   "cell_type": "code",
   "source": [
    "from scripts.config import INTERIM_DATA_DIR\n",
    "df.to_csv(f'{INTERIM_DATA_DIR}/sam_entity_data.csv', index=False)"
   ],
   "id": "243503501394773b",
   "outputs": [],
   "execution_count": 6
  },
  {
   "metadata": {},
   "cell_type": "markdown",
   "source": "## Fetch firm marketing materials",
   "id": "d660e7b920928f27"
  },
  {
   "metadata": {},
   "cell_type": "markdown",
   "source": [
    "The firm marketing PDFs are stored on certify.gov and cannot be downloaded directly as PDFs. However, the underlying source code for the PDFs lives on the source HTML on the page where they are stored, written in base 64 as a big XML string. Therefore, an efficient way to pull the PDFs is to fetch the raw underlying base 64 string, convert it to binary, and then write the binary to PDF locally. The functions to carry this out are in the `fetch_marketing_pdfs` submodule.\n",
    "\n",
    "First, read in the list of UEIs from the entity registration data."
   ],
   "id": "65f085cd96d98a27"
  },
  {
   "metadata": {
    "ExecuteTime": {
     "end_time": "2024-12-31T21:04:57.309368Z",
     "start_time": "2024-12-31T21:04:56.519509Z"
    }
   },
   "cell_type": "code",
   "source": [
    "import pandas as pd\n",
    "from scripts.config import RAW_DATA_DIR\n",
    "\n",
    "# Read in entity registration data and grab the UEI column\n",
    "df = pd.read_csv(f'{RAW_DATA_DIR}/raw_uei_data/EntityRegistration-20241215-014119.csv', usecols= [\"Unique Entity ID\"])\n",
    "# Rename for short\n",
    "df.columns = [\"uei\"]\n",
    "# List of UEIs to query\n",
    "ueis = df['uei'].tolist()"
   ],
   "id": "d0910272ef6365dd",
   "outputs": [],
   "execution_count": 3
  },
  {
   "metadata": {},
   "cell_type": "markdown",
   "source": [
    "This function is a wrapper for a bunch of modular functions that grab the underlying\n",
    "source code for the PDFs from the website, then download it to the raw data subdirectory. Download the PDFs:\n"
   ],
   "id": "d752eeacbe7cc092"
  },
  {
   "metadata": {
    "jupyter": {
     "is_executing": true
    },
    "ExecuteTime": {
     "start_time": "2024-12-31T21:04:58.626532Z"
    }
   },
   "cell_type": "code",
   "source": [
    "from scripts.data_fetchers.fetch_marketing_pdfs import fetch_capability_statement_pdfs\n",
    "\n",
    "fetch_capability_statement_pdfs(ueis)"
   ],
   "id": "69536d9b869991f5",
   "outputs": [
    {
     "name": "stdout",
     "output_type": "stream",
     "text": [
      "Fetching data from https://certify.sba.gov/capabilities/HWWNS96N8GJ5...\n",
      "No Capability Statement uploaded for UEI HWWNS96N8GJ5\n",
      "Fetching data from https://certify.sba.gov/capabilities/XBADFDKCRAV5...\n",
      "No Capability Statement uploaded for UEI XBADFDKCRAV5\n",
      "Fetching data from https://certify.sba.gov/capabilities/M1YFJKPWCKG7...\n",
      "No Capability Statement uploaded for UEI M1YFJKPWCKG7\n",
      "Fetching data from https://certify.sba.gov/capabilities/Q7MHYRJYBL37...\n",
      "No Capability Statement uploaded for UEI Q7MHYRJYBL37\n",
      "Fetching data from https://certify.sba.gov/capabilities/N196QBAB9PZ5...\n",
      "No Capability Statement uploaded for UEI N196QBAB9PZ5\n",
      "Fetching data from https://certify.sba.gov/capabilities/H9SKLW2VK1B5...\n",
      "No Capability Statement uploaded for UEI H9SKLW2VK1B5\n",
      "Fetching data from https://certify.sba.gov/capabilities/HVYFKE5ENKA3...\n",
      "Success!\n",
      "Extracting binary data for UEI HVYFKE5ENKA3\n",
      "Success!\n",
      "Creating PDF at /Users/jaspercooper/Dropbox/01_Projects/01_python_projects/predict_marketing_success/data/raw/raw_pdfs/HVYFKE5ENKA3.pdf\n",
      "PDF successfully saved: /Users/jaspercooper/Dropbox/01_Projects/01_python_projects/predict_marketing_success/data/raw/raw_pdfs/HVYFKE5ENKA3.pdf\n",
      "Fetching data from https://certify.sba.gov/capabilities/YYHUS62QE615...\n",
      "Success!\n",
      "Extracting binary data for UEI YYHUS62QE615\n",
      "Success!\n",
      "Creating PDF at /Users/jaspercooper/Dropbox/01_Projects/01_python_projects/predict_marketing_success/data/raw/raw_pdfs/YYHUS62QE615.pdf\n",
      "PDF successfully saved: /Users/jaspercooper/Dropbox/01_Projects/01_python_projects/predict_marketing_success/data/raw/raw_pdfs/YYHUS62QE615.pdf\n",
      "Fetching data from https://certify.sba.gov/capabilities/ZRGAPFC8AJT9...\n",
      "No Capability Statement uploaded for UEI ZRGAPFC8AJT9\n",
      "Fetching data from https://certify.sba.gov/capabilities/LNYVZMG4CTR1...\n",
      "No Capability Statement uploaded for UEI LNYVZMG4CTR1\n",
      "Fetching data from https://certify.sba.gov/capabilities/RZEHZD9JLKL6...\n",
      "No Capability Statement uploaded for UEI RZEHZD9JLKL6\n",
      "Fetching data from https://certify.sba.gov/capabilities/XE6NFMZGQJR6...\n",
      "Success!\n",
      "Extracting binary data for UEI XE6NFMZGQJR6\n",
      "Success!\n",
      "Creating PDF at /Users/jaspercooper/Dropbox/01_Projects/01_python_projects/predict_marketing_success/data/raw/raw_pdfs/XE6NFMZGQJR6.pdf\n",
      "PDF successfully saved: /Users/jaspercooper/Dropbox/01_Projects/01_python_projects/predict_marketing_success/data/raw/raw_pdfs/XE6NFMZGQJR6.pdf\n",
      "Fetching data from https://certify.sba.gov/capabilities/RK3BQM5PLRY3...\n",
      "Success!\n",
      "Extracting binary data for UEI RK3BQM5PLRY3\n",
      "Success!\n",
      "Creating PDF at /Users/jaspercooper/Dropbox/01_Projects/01_python_projects/predict_marketing_success/data/raw/raw_pdfs/RK3BQM5PLRY3.pdf\n",
      "PDF successfully saved: /Users/jaspercooper/Dropbox/01_Projects/01_python_projects/predict_marketing_success/data/raw/raw_pdfs/RK3BQM5PLRY3.pdf\n",
      "Fetching data from https://certify.sba.gov/capabilities/RLECLCT8XPN8...\n",
      "Success!\n",
      "Extracting binary data for UEI RLECLCT8XPN8\n",
      "Success!\n",
      "Creating PDF at /Users/jaspercooper/Dropbox/01_Projects/01_python_projects/predict_marketing_success/data/raw/raw_pdfs/RLECLCT8XPN8.pdf\n",
      "PDF successfully saved: /Users/jaspercooper/Dropbox/01_Projects/01_python_projects/predict_marketing_success/data/raw/raw_pdfs/RLECLCT8XPN8.pdf\n",
      "Fetching data from https://certify.sba.gov/capabilities/LNBJBQJCTFK9...\n",
      "No Capability Statement uploaded for UEI LNBJBQJCTFK9\n",
      "Fetching data from https://certify.sba.gov/capabilities/J8LZL2VCKNB9...\n",
      "Success!\n",
      "Extracting binary data for UEI J8LZL2VCKNB9\n",
      "Success!\n",
      "Creating PDF at /Users/jaspercooper/Dropbox/01_Projects/01_python_projects/predict_marketing_success/data/raw/raw_pdfs/J8LZL2VCKNB9.pdf\n",
      "PDF successfully saved: /Users/jaspercooper/Dropbox/01_Projects/01_python_projects/predict_marketing_success/data/raw/raw_pdfs/J8LZL2VCKNB9.pdf\n",
      "Fetching data from https://certify.sba.gov/capabilities/FLBGC6P98HJ7...\n",
      "Success!\n",
      "Extracting binary data for UEI FLBGC6P98HJ7\n",
      "Success!\n",
      "Creating PDF at /Users/jaspercooper/Dropbox/01_Projects/01_python_projects/predict_marketing_success/data/raw/raw_pdfs/FLBGC6P98HJ7.pdf\n",
      "PDF successfully saved: /Users/jaspercooper/Dropbox/01_Projects/01_python_projects/predict_marketing_success/data/raw/raw_pdfs/FLBGC6P98HJ7.pdf\n",
      "Fetching data from https://certify.sba.gov/capabilities/VSEGJBTKMPN1...\n",
      "No Capability Statement uploaded for UEI VSEGJBTKMPN1\n",
      "Fetching data from https://certify.sba.gov/capabilities/TG5CD27YTLT4...\n",
      "No Capability Statement uploaded for UEI TG5CD27YTLT4\n",
      "Fetching data from https://certify.sba.gov/capabilities/CUJQTSKEAWZ9...\n",
      "Success!\n",
      "Extracting binary data for UEI CUJQTSKEAWZ9\n",
      "Success!\n",
      "Creating PDF at /Users/jaspercooper/Dropbox/01_Projects/01_python_projects/predict_marketing_success/data/raw/raw_pdfs/CUJQTSKEAWZ9.pdf\n",
      "PDF successfully saved: /Users/jaspercooper/Dropbox/01_Projects/01_python_projects/predict_marketing_success/data/raw/raw_pdfs/CUJQTSKEAWZ9.pdf\n",
      "Fetching data from https://certify.sba.gov/capabilities/J6D5WQ5WHHK5...\n",
      "Success!\n",
      "Extracting binary data for UEI J6D5WQ5WHHK5\n",
      "Success!\n",
      "Creating PDF at /Users/jaspercooper/Dropbox/01_Projects/01_python_projects/predict_marketing_success/data/raw/raw_pdfs/J6D5WQ5WHHK5.pdf\n",
      "PDF successfully saved: /Users/jaspercooper/Dropbox/01_Projects/01_python_projects/predict_marketing_success/data/raw/raw_pdfs/J6D5WQ5WHHK5.pdf\n",
      "Fetching data from https://certify.sba.gov/capabilities/T2QKZ3Z8SAC3...\n",
      "No Capability Statement uploaded for UEI T2QKZ3Z8SAC3\n",
      "Fetching data from https://certify.sba.gov/capabilities/ECKBPE48GKY7...\n",
      "Success!\n",
      "Extracting binary data for UEI ECKBPE48GKY7\n",
      "Success!\n",
      "Creating PDF at /Users/jaspercooper/Dropbox/01_Projects/01_python_projects/predict_marketing_success/data/raw/raw_pdfs/ECKBPE48GKY7.pdf\n",
      "PDF successfully saved: /Users/jaspercooper/Dropbox/01_Projects/01_python_projects/predict_marketing_success/data/raw/raw_pdfs/ECKBPE48GKY7.pdf\n",
      "Fetching data from https://certify.sba.gov/capabilities/YE6BSCJ18Q34...\n",
      "Success!\n",
      "Extracting binary data for UEI YE6BSCJ18Q34\n",
      "Success!\n",
      "Creating PDF at /Users/jaspercooper/Dropbox/01_Projects/01_python_projects/predict_marketing_success/data/raw/raw_pdfs/YE6BSCJ18Q34.pdf\n",
      "PDF successfully saved: /Users/jaspercooper/Dropbox/01_Projects/01_python_projects/predict_marketing_success/data/raw/raw_pdfs/YE6BSCJ18Q34.pdf\n",
      "Fetching data from https://certify.sba.gov/capabilities/NTU8CNMG7ZM1...\n",
      "Success!\n",
      "Extracting binary data for UEI NTU8CNMG7ZM1\n",
      "Success!\n",
      "Creating PDF at /Users/jaspercooper/Dropbox/01_Projects/01_python_projects/predict_marketing_success/data/raw/raw_pdfs/NTU8CNMG7ZM1.pdf\n",
      "PDF successfully saved: /Users/jaspercooper/Dropbox/01_Projects/01_python_projects/predict_marketing_success/data/raw/raw_pdfs/NTU8CNMG7ZM1.pdf\n",
      "Fetching data from https://certify.sba.gov/capabilities/J1LRXJ6MVKE7...\n",
      "Success!\n",
      "Extracting binary data for UEI J1LRXJ6MVKE7\n",
      "Success!\n",
      "Creating PDF at /Users/jaspercooper/Dropbox/01_Projects/01_python_projects/predict_marketing_success/data/raw/raw_pdfs/J1LRXJ6MVKE7.pdf\n",
      "PDF successfully saved: /Users/jaspercooper/Dropbox/01_Projects/01_python_projects/predict_marketing_success/data/raw/raw_pdfs/J1LRXJ6MVKE7.pdf\n",
      "Fetching data from https://certify.sba.gov/capabilities/KKRWHF7LA8B1...\n",
      "Success!\n",
      "Extracting binary data for UEI KKRWHF7LA8B1\n",
      "Success!\n",
      "Creating PDF at /Users/jaspercooper/Dropbox/01_Projects/01_python_projects/predict_marketing_success/data/raw/raw_pdfs/KKRWHF7LA8B1.pdf\n",
      "PDF successfully saved: /Users/jaspercooper/Dropbox/01_Projects/01_python_projects/predict_marketing_success/data/raw/raw_pdfs/KKRWHF7LA8B1.pdf\n",
      "Fetching data from https://certify.sba.gov/capabilities/SYAWGSENTLC9...\n",
      "Success!\n",
      "Extracting binary data for UEI SYAWGSENTLC9\n",
      "Success!\n",
      "Creating PDF at /Users/jaspercooper/Dropbox/01_Projects/01_python_projects/predict_marketing_success/data/raw/raw_pdfs/SYAWGSENTLC9.pdf\n",
      "PDF successfully saved: /Users/jaspercooper/Dropbox/01_Projects/01_python_projects/predict_marketing_success/data/raw/raw_pdfs/SYAWGSENTLC9.pdf\n",
      "Fetching data from https://certify.sba.gov/capabilities/PR3BCFPRNHG2...\n",
      "Success!\n",
      "Extracting binary data for UEI PR3BCFPRNHG2\n",
      "Success!\n",
      "Creating PDF at /Users/jaspercooper/Dropbox/01_Projects/01_python_projects/predict_marketing_success/data/raw/raw_pdfs/PR3BCFPRNHG2.pdf\n",
      "PDF successfully saved: /Users/jaspercooper/Dropbox/01_Projects/01_python_projects/predict_marketing_success/data/raw/raw_pdfs/PR3BCFPRNHG2.pdf\n",
      "Fetching data from https://certify.sba.gov/capabilities/EMNDBXF7JSK9...\n",
      "Success!\n",
      "Extracting binary data for UEI EMNDBXF7JSK9\n",
      "Success!\n",
      "Creating PDF at /Users/jaspercooper/Dropbox/01_Projects/01_python_projects/predict_marketing_success/data/raw/raw_pdfs/EMNDBXF7JSK9.pdf\n",
      "PDF successfully saved: /Users/jaspercooper/Dropbox/01_Projects/01_python_projects/predict_marketing_success/data/raw/raw_pdfs/EMNDBXF7JSK9.pdf\n",
      "Fetching data from https://certify.sba.gov/capabilities/YZFRW2T2HJV5...\n",
      "No Capability Statement uploaded for UEI YZFRW2T2HJV5\n",
      "Fetching data from https://certify.sba.gov/capabilities/LNXEYDDFYQ66...\n"
     ]
    }
   ],
   "execution_count": null
  },
  {
   "metadata": {
    "ExecuteTime": {
     "end_time": "2024-12-31T21:04:35.368242Z",
     "start_time": "2024-12-31T21:04:33.780345Z"
    }
   },
   "cell_type": "code",
   "source": [
    "\n",
    "from scripts.data_fetchers.fetch_marketing_pdfs import fetch_raw_pdf_data, fetch_capability_statement_pdfs\n",
    "print(fetch_raw_pdf_data(\"HWWNS96N8GJ5\"))\n",
    "\n",
    "fetch_capability_statement_pdfs((\"HWWNS96N8GJ5\",\"HWWNS96N8GJ5\"))\n"
   ],
   "id": "39fcf5cf58a7b0cc",
   "outputs": [
    {
     "name": "stderr",
     "output_type": "stream",
     "text": [
      "\u001B[32m2024-12-31 13:04:33.835\u001B[0m | \u001B[1mINFO    \u001B[0m | \u001B[36mscripts.config\u001B[0m:\u001B[36m<module>\u001B[0m:\u001B[36m11\u001B[0m - \u001B[1mPROJ_ROOT path is: /Users/jaspercooper/Dropbox/01_Projects/01_python_projects/predict_marketing_success\u001B[0m\n"
     ]
    },
    {
     "name": "stdout",
     "output_type": "stream",
     "text": [
      "Fetching data from https://certify.sba.gov/capabilities/HWWNS96N8GJ5...\n",
      "{'pdf_data_base64': 'No Capability Statement uploaded for UEI HWWNS96N8GJ5', 'uei': 'HWWNS96N8GJ5'}\n",
      "Fetching data from https://certify.sba.gov/capabilities/HWWNS96N8GJ5...\n",
      "No Capability Statement uploaded for UEI HWWNS96N8GJ5\n",
      "Fetching data from https://certify.sba.gov/capabilities/HWWNS96N8GJ5...\n",
      "No Capability Statement uploaded for UEI HWWNS96N8GJ5\n"
     ]
    }
   ],
   "execution_count": 1
  },
  {
   "metadata": {
    "ExecuteTime": {
     "end_time": "2024-12-31T20:57:24.513492Z",
     "start_time": "2024-12-31T20:57:24.195072Z"
    }
   },
   "cell_type": "code",
   "source": [
    "import os\n",
    "output_dir = f\"{RAW_DATA_DIR}/raw_pdfs/\"\n",
    "\n"
   ],
   "id": "f62a6f8af140d529",
   "outputs": [
    {
     "name": "stdout",
     "output_type": "stream",
     "text": [
      "['L2PCLK4LACX3', 'JRRRE11LEM21', 'F8HJH75CYKW1', 'HMCJNVLLBJ43', 'EHM2NWLJHSJ7', 'EGKHPDKJ2411', 'EMB6F6ML48D9', 'HHANSGF1ELX3', 'CNK4HSQNE1M3', 'FFQVMZUN2AU4', 'ZB7NPX2HLFY5', 'FU6QJHHG7T22', 'C49RM1EY1UY5', 'WKX5XUQGH276', 'E2N5TXXYYYP7', 'EUJSKQHMPLR5', 'F9BRDNLB5J99', 'GPV8EN61NBN6', 'CKXXZL52PLZ2', 'GAE3BQFCPWM5', 'CLMDT32GT7F7', 'DQEWGZCLS7A7', 'CP5UGDR6ZNA4', 'H3FJC4XYEHM9', 'JMZMAE63TBR5', 'EAFRLAM81JK4']\n",
      "[]\n"
     ]
    }
   ],
   "execution_count": 8
  },
  {
   "metadata": {},
   "cell_type": "markdown",
   "source": "# Fetch USAspending data on awards to 8(a) firms",
   "id": "35ca3c0bfd1463d2"
  },
  {
   "metadata": {},
   "cell_type": "markdown",
   "source": "This is the code to use once the API request issue above is resolved:",
   "id": "1a47247839227c98"
  },
  {
   "metadata": {
    "ExecuteTime": {
     "end_time": "2024-12-15T21:36:04.169649Z",
     "start_time": "2024-12-15T21:36:04.157806Z"
    }
   },
   "cell_type": "code",
   "outputs": [],
   "execution_count": 5,
   "source": [
    "# import pandas as pd\n",
    "# from scripts.config import INTERIM_DATA_DIR\n",
    "# df = pd.read_csv(f'{INTERIM_DATA_DIR}/sam_entity_data.csv', usecols= [\"ueiSAM\"])"
   ],
   "id": "33690608f3c105f1"
  },
  {
   "metadata": {},
   "cell_type": "markdown",
   "source": "Pull in data on UEIs of 8(a)s from SAM.gov",
   "id": "781f01827b222f8b"
  },
  {
   "metadata": {
    "ExecuteTime": {
     "end_time": "2024-12-16T01:10:01.386286Z",
     "start_time": "2024-12-16T01:10:00.082874Z"
    }
   },
   "cell_type": "code",
   "source": [
    "import pandas as pd\n",
    "from scripts.config import RAW_DATA_DIR\n",
    "df = pd.read_csv(f'{RAW_DATA_DIR}/raw_uei_data/EntityRegistration-20241215-014119.csv', usecols= [\"Unique Entity ID\"])\n",
    "df.columns = [\"uei\"]"
   ],
   "id": "a95bbd9118c40ab4",
   "outputs": [
    {
     "name": "stderr",
     "output_type": "stream",
     "text": [
      "\u001B[32m2024-12-15 17:10:01.329\u001B[0m | \u001B[1mINFO    \u001B[0m | \u001B[36mscripts.config\u001B[0m:\u001B[36m<module>\u001B[0m:\u001B[36m11\u001B[0m - \u001B[1mPROJ_ROOT path is: /Users/jaspercooper/Dropbox/01_Projects/01_python_projects/predict_marketing_success\u001B[0m\n"
     ]
    }
   ],
   "execution_count": 1
  },
  {
   "metadata": {},
   "cell_type": "markdown",
   "source": "Inspect dataframe",
   "id": "69462924f7031ca"
  },
  {
   "metadata": {
    "ExecuteTime": {
     "end_time": "2024-12-16T01:10:03.032001Z",
     "start_time": "2024-12-16T01:10:02.987917Z"
    }
   },
   "cell_type": "code",
   "source": "df.shape",
   "id": "42f4e4bc7ec9d0dd",
   "outputs": [
    {
     "data": {
      "text/plain": [
       "(5000, 1)"
      ]
     },
     "execution_count": 2,
     "metadata": {},
     "output_type": "execute_result"
    }
   ],
   "execution_count": 2
  },
  {
   "metadata": {},
   "cell_type": "markdown",
   "source": "Grab USAspending data on spending with those firms for past 3 years. The function `fetch_awards()` looks on the API to see whether it can find the info for a given firm using its UEI. When it succesfully retrieves a record, it stores it in a big list of JSON entries.",
   "id": "6d3449c14942cc7d"
  },
  {
   "metadata": {
    "ExecuteTime": {
     "end_time": "2024-12-16T05:09:29.584186Z",
     "start_time": "2024-12-16T01:10:06.915516Z"
    }
   },
   "cell_type": "code",
   "source": [
    "from scripts.data_fetchers.fetch_award_data import fetch_awards\n",
    "\n",
    "# List of UEIs to query\n",
    "ueis = df['uei'].tolist()\n",
    "\n",
    "fetch_awards(ueis = ueis, year = 2022)\n",
    "fetch_awards(ueis = ueis, year = 2023)\n",
    "fetch_awards(ueis = ueis, year = 2024)\n"
   ],
   "id": "e9f7e9477150b642",
   "outputs": [
    {
     "name": "stdout",
     "output_type": "stream",
     "text": [
      "An error occurred for UEI V8JNGNHRR985: ('Connection aborted.', RemoteDisconnected('Remote end closed connection without response'))\n",
      "An error occurred for UEI VNSNDLBVLK35: ('Connection aborted.', RemoteDisconnected('Remote end closed connection without response'))\n",
      "An error occurred for UEI CWBBTJLJJM54: ('Connection aborted.', RemoteDisconnected('Remote end closed connection without response'))\n",
      "An error occurred for UEI GHLQKJHCAGC1: ('Connection aborted.', RemoteDisconnected('Remote end closed connection without response'))\n",
      "An error occurred for UEI JXVKSVHLUDS5: ('Connection aborted.', RemoteDisconnected('Remote end closed connection without response'))\n",
      "An error occurred for UEI L5HJQWBJEUM1: ('Connection aborted.', RemoteDisconnected('Remote end closed connection without response'))\n",
      "An error occurred for UEI KU3WDZJ9JFY4: ('Connection aborted.', RemoteDisconnected('Remote end closed connection without response'))\n",
      "An error occurred for UEI NLMGM6G67UP9: ('Connection aborted.', RemoteDisconnected('Remote end closed connection without response'))\n",
      "An error occurred for UEI FP1EC1DXW486: ('Connection aborted.', RemoteDisconnected('Remote end closed connection without response'))\n",
      "An error occurred for UEI CP3HVHXHKKW5: ('Connection aborted.', RemoteDisconnected('Remote end closed connection without response'))\n",
      "An error occurred for UEI SFMLS8HNHJJ3: ('Connection aborted.', RemoteDisconnected('Remote end closed connection without response'))\n",
      "An error occurred for UEI Q54BDDKHQK24: ('Connection aborted.', RemoteDisconnected('Remote end closed connection without response'))\n",
      "An error occurred for UEI PM58RY4N1ZD9: ('Connection aborted.', RemoteDisconnected('Remote end closed connection without response'))\n",
      "An error occurred for UEI LV3LPMDM9GJ5: ('Connection aborted.', RemoteDisconnected('Remote end closed connection without response'))\n",
      "An error occurred for UEI HBWUN64KZNN4: ('Connection aborted.', RemoteDisconnected('Remote end closed connection without response'))\n",
      "An error occurred for UEI M9CMXB1JFCW9: ('Connection aborted.', RemoteDisconnected('Remote end closed connection without response'))\n",
      "An error occurred for UEI NMNYELXTK441: ('Connection aborted.', RemoteDisconnected('Remote end closed connection without response'))\n",
      "Collected 3808 successful responses and 1175 unsuccessful responses.\n",
      "successful_responses saved to /Users/jaspercooper/Dropbox/01_Projects/01_python_projects/predict_marketing_success/data/raw/raw_award_data/awards_to_8a_2022.json\n",
      "An error occurred for UEI SB4JFX2NASL4: ('Connection aborted.', RemoteDisconnected('Remote end closed connection without response'))\n",
      "An error occurred for UEI RXXZVD6MCMB1: ('Connection aborted.', RemoteDisconnected('Remote end closed connection without response'))\n",
      "An error occurred for UEI K1X3AGMLFCJ3: ('Connection aborted.', RemoteDisconnected('Remote end closed connection without response'))\n",
      "An error occurred for UEI HUNAFAJSTCJ8: ('Connection aborted.', RemoteDisconnected('Remote end closed connection without response'))\n",
      "An error occurred for UEI HKT9NT9AHYA9: ('Connection aborted.', RemoteDisconnected('Remote end closed connection without response'))\n",
      "An error occurred for UEI G9HCTSX3TNN5: ('Connection aborted.', RemoteDisconnected('Remote end closed connection without response'))\n",
      "An error occurred for UEI PKUHAFM7CNE3: ('Connection aborted.', RemoteDisconnected('Remote end closed connection without response'))\n",
      "An error occurred for UEI C41CM7JGH2H9: ('Connection aborted.', RemoteDisconnected('Remote end closed connection without response'))\n",
      "An error occurred for UEI TZUUN9B4WY41: ('Connection aborted.', RemoteDisconnected('Remote end closed connection without response'))\n",
      "An error occurred for UEI KW2RL9X5L5C4: ('Connection aborted.', RemoteDisconnected('Remote end closed connection without response'))\n",
      "An error occurred for UEI JJ2KJHYAVYH8: ('Connection aborted.', RemoteDisconnected('Remote end closed connection without response'))\n",
      "An error occurred for UEI TJGMLFBNFAT9: ('Connection aborted.', RemoteDisconnected('Remote end closed connection without response'))\n",
      "An error occurred for UEI RKJ7B47X2UJ9: ('Connection aborted.', RemoteDisconnected('Remote end closed connection without response'))\n",
      "An error occurred for UEI R8QLPM79PSM5: ('Connection aborted.', RemoteDisconnected('Remote end closed connection without response'))\n",
      "An error occurred for UEI DY1CACNZK477: ('Connection aborted.', RemoteDisconnected('Remote end closed connection without response'))\n",
      "An error occurred for UEI GSCDFZGKKBK6: ('Connection aborted.', RemoteDisconnected('Remote end closed connection without response'))\n",
      "An error occurred for UEI F8TJJE2KJPW6: ('Connection aborted.', RemoteDisconnected('Remote end closed connection without response'))\n",
      "An error occurred for UEI L96YGEN6UPX1: ('Connection aborted.', RemoteDisconnected('Remote end closed connection without response'))\n",
      "An error occurred for UEI UZHEW8RJLUC4: ('Connection aborted.', RemoteDisconnected('Remote end closed connection without response'))\n",
      "An error occurred for UEI LMPNDTMGKXC4: ('Connection aborted.', RemoteDisconnected('Remote end closed connection without response'))\n",
      "An error occurred for UEI ZH8ACM4ZWDL7: ('Connection aborted.', RemoteDisconnected('Remote end closed connection without response'))\n",
      "An error occurred for UEI NB83NPJEHLF4: ('Connection aborted.', RemoteDisconnected('Remote end closed connection without response'))\n",
      "An error occurred for UEI MMQLFVL14M37: ('Connection aborted.', RemoteDisconnected('Remote end closed connection without response'))\n",
      "An error occurred for UEI LJXED3JJ8161: ('Connection aborted.', RemoteDisconnected('Remote end closed connection without response'))\n",
      "An error occurred for UEI L4JMY6LBJMF4: HTTPSConnectionPool(host='api.usaspending.gov', port=443): Read timed out. (read timeout=None)\n",
      "An error occurred for UEI C157ALV4VAK9: ('Connection aborted.', RemoteDisconnected('Remote end closed connection without response'))\n",
      "An error occurred for UEI JZQ8JPDCFCJ6: ('Connection aborted.', RemoteDisconnected('Remote end closed connection without response'))\n",
      "An error occurred for UEI C2CNKEHLTLH3: ('Connection aborted.', RemoteDisconnected('Remote end closed connection without response'))\n",
      "An error occurred for UEI GDS4BUFA6FW7: ('Connection aborted.', RemoteDisconnected('Remote end closed connection without response'))\n",
      "An error occurred for UEI PPJ7DKCMT5F8: ('Connection aborted.', RemoteDisconnected('Remote end closed connection without response'))\n",
      "An error occurred for UEI RZ8EQ2PG1K85: ('Connection aborted.', RemoteDisconnected('Remote end closed connection without response'))\n",
      "Collected 3800 successful responses and 1169 unsuccessful responses.\n",
      "successful_responses saved to /Users/jaspercooper/Dropbox/01_Projects/01_python_projects/predict_marketing_success/data/raw/raw_award_data/awards_to_8a_2023.json\n",
      "An error occurred for UEI FAJDM7TGYYE3: HTTPSConnectionPool(host='api.usaspending.gov', port=443): Read timed out. (read timeout=None)\n",
      "An error occurred for UEI VZH9ZJPFKCG3: HTTPSConnectionPool(host='api.usaspending.gov', port=443): Read timed out. (read timeout=None)\n",
      "An error occurred for UEI SCP6ULK8ZMN4: ('Connection aborted.', RemoteDisconnected('Remote end closed connection without response'))\n",
      "An error occurred for UEI NEP8XV9R57B7: ('Connection aborted.', RemoteDisconnected('Remote end closed connection without response'))\n",
      "An error occurred for UEI HWVGVYUM8N39: ('Connection aborted.', RemoteDisconnected('Remote end closed connection without response'))\n",
      "An error occurred for UEI ZZEFBLYZN5B1: ('Connection aborted.', RemoteDisconnected('Remote end closed connection without response'))\n",
      "An error occurred for UEI LW9XMDPN1JF5: HTTPSConnectionPool(host='api.usaspending.gov', port=443): Read timed out. (read timeout=None)\n",
      "An error occurred for UEI LJPJZAEM9U43: ('Connection aborted.', RemoteDisconnected('Remote end closed connection without response'))\n",
      "An error occurred for UEI CN7ZXAJ7H9L4: ('Connection aborted.', RemoteDisconnected('Remote end closed connection without response'))\n",
      "An error occurred for UEI GT3NN9T8EA29: ('Connection aborted.', RemoteDisconnected('Remote end closed connection without response'))\n",
      "An error occurred for UEI UEJYM434YKJ6: ('Connection aborted.', RemoteDisconnected('Remote end closed connection without response'))\n",
      "An error occurred for UEI ECTFRC4HKY39: ('Connection aborted.', RemoteDisconnected('Remote end closed connection without response'))\n",
      "An error occurred for UEI YXH1ZSSHE1A1: ('Connection aborted.', RemoteDisconnected('Remote end closed connection without response'))\n",
      "An error occurred for UEI X9S1B5NMYKT9: ('Connection aborted.', RemoteDisconnected('Remote end closed connection without response'))\n",
      "An error occurred for UEI RC65MM3NS8W8: ('Connection aborted.', RemoteDisconnected('Remote end closed connection without response'))\n",
      "An error occurred for UEI TWBAM6J5Z281: ('Connection aborted.', RemoteDisconnected('Remote end closed connection without response'))\n",
      "An error occurred for UEI XG32CSGYKGM8: ('Connection aborted.', RemoteDisconnected('Remote end closed connection without response'))\n",
      "An error occurred for UEI VA7DASVR78N8: ('Connection aborted.', RemoteDisconnected('Remote end closed connection without response'))\n",
      "An error occurred for UEI Q8MKHJWV2EZ2: ('Connection aborted.', RemoteDisconnected('Remote end closed connection without response'))\n",
      "An error occurred for UEI P3XUPZXJM7M1: ('Connection aborted.', RemoteDisconnected('Remote end closed connection without response'))\n",
      "An error occurred for UEI FDAUSQ8LMX98: ('Connection aborted.', RemoteDisconnected('Remote end closed connection without response'))\n",
      "An error occurred for UEI EERRHAK72L37: ('Connection aborted.', RemoteDisconnected('Remote end closed connection without response'))\n",
      "An error occurred for UEI NZQEHNXYF3D6: ('Connection aborted.', RemoteDisconnected('Remote end closed connection without response'))\n",
      "Collected 3803 successful responses and 1174 unsuccessful responses.\n",
      "successful_responses saved to /Users/jaspercooper/Dropbox/01_Projects/01_python_projects/predict_marketing_success/data/raw/raw_award_data/awards_to_8a_2024.json\n"
     ]
    }
   ],
   "execution_count": 3
  },
  {
   "metadata": {},
   "cell_type": "markdown",
   "source": "The `concatenate_json_files()` function reads in all the files created in the previous script, then loops through them, turning them into dataframes with the year attached as a variable.",
   "id": "9783347aca310bb5"
  },
  {
   "metadata": {
    "ExecuteTime": {
     "end_time": "2024-12-16T19:29:43.560237Z",
     "start_time": "2024-12-16T19:29:43.197708Z"
    }
   },
   "cell_type": "code",
   "source": [
    "from scripts.config import RAW_DATA_DIR\n",
    "from scripts.data_fetchers.fetch_award_data import concatenate_json_files\n",
    "all_awards = concatenate_json_files(input_dir = f\"{RAW_DATA_DIR}/raw_award_data\")"
   ],
   "id": "53d3706428c7bd55",
   "outputs": [],
   "execution_count": 4
  },
  {
   "metadata": {},
   "cell_type": "markdown",
   "source": "Inspect concatenated data",
   "id": "b1305eb7b19361c9"
  },
  {
   "metadata": {
    "ExecuteTime": {
     "end_time": "2024-12-16T19:29:51.800159Z",
     "start_time": "2024-12-16T19:29:51.737340Z"
    }
   },
   "cell_type": "code",
   "source": "all_awards.head()",
   "id": "a69c61a7726f3b52",
   "outputs": [
    {
     "data": {
      "text/plain": [
       "                             recipient_id                               name  \\\n",
       "0  775b7921-5e61-1b97-10bf-6632dd994608-C           EMERGING CONSULTING, LLC   \n",
       "1  d7bef74d-1611-a8fd-ec9c-70668d28d63a-C             KTL COMMUNICATIONS LLC   \n",
       "2  bf277e2b-45d6-1b24-38bb-c1790ccda0e1-C  H & L ENVIRONMENTAL SERVICES, LLC   \n",
       "3  f0974e90-813c-bb5a-74b1-59c0fcf8fbda-C              GSI NORTH AMERICA INC   \n",
       "4  d0241de6-18ac-7596-08f2-c90c556c36b9-C              GSI NORTH AMERICA INC   \n",
       "\n",
       "        duns           uei      amount state_province  year  \n",
       "0  080117665  E2N5TXXYYYP7    20000.00             VA  2022  \n",
       "1  079198829  HHANSGF1ELX3   298255.00             VA  2022  \n",
       "2  964426451  JRRRE11LEM21  1737906.38             NC  2022  \n",
       "3  081267392  K7ZHNF6YJMB3  2894705.00             HI  2022  \n",
       "4  079386548  EHM2NWLJHSJ7        0.00             NJ  2022  "
      ],
      "text/html": [
       "<div>\n",
       "<style scoped>\n",
       "    .dataframe tbody tr th:only-of-type {\n",
       "        vertical-align: middle;\n",
       "    }\n",
       "\n",
       "    .dataframe tbody tr th {\n",
       "        vertical-align: top;\n",
       "    }\n",
       "\n",
       "    .dataframe thead th {\n",
       "        text-align: right;\n",
       "    }\n",
       "</style>\n",
       "<table border=\"1\" class=\"dataframe\">\n",
       "  <thead>\n",
       "    <tr style=\"text-align: right;\">\n",
       "      <th></th>\n",
       "      <th>recipient_id</th>\n",
       "      <th>name</th>\n",
       "      <th>duns</th>\n",
       "      <th>uei</th>\n",
       "      <th>amount</th>\n",
       "      <th>state_province</th>\n",
       "      <th>year</th>\n",
       "    </tr>\n",
       "  </thead>\n",
       "  <tbody>\n",
       "    <tr>\n",
       "      <th>0</th>\n",
       "      <td>775b7921-5e61-1b97-10bf-6632dd994608-C</td>\n",
       "      <td>EMERGING CONSULTING, LLC</td>\n",
       "      <td>080117665</td>\n",
       "      <td>E2N5TXXYYYP7</td>\n",
       "      <td>20000.00</td>\n",
       "      <td>VA</td>\n",
       "      <td>2022</td>\n",
       "    </tr>\n",
       "    <tr>\n",
       "      <th>1</th>\n",
       "      <td>d7bef74d-1611-a8fd-ec9c-70668d28d63a-C</td>\n",
       "      <td>KTL COMMUNICATIONS LLC</td>\n",
       "      <td>079198829</td>\n",
       "      <td>HHANSGF1ELX3</td>\n",
       "      <td>298255.00</td>\n",
       "      <td>VA</td>\n",
       "      <td>2022</td>\n",
       "    </tr>\n",
       "    <tr>\n",
       "      <th>2</th>\n",
       "      <td>bf277e2b-45d6-1b24-38bb-c1790ccda0e1-C</td>\n",
       "      <td>H &amp; L ENVIRONMENTAL SERVICES, LLC</td>\n",
       "      <td>964426451</td>\n",
       "      <td>JRRRE11LEM21</td>\n",
       "      <td>1737906.38</td>\n",
       "      <td>NC</td>\n",
       "      <td>2022</td>\n",
       "    </tr>\n",
       "    <tr>\n",
       "      <th>3</th>\n",
       "      <td>f0974e90-813c-bb5a-74b1-59c0fcf8fbda-C</td>\n",
       "      <td>GSI NORTH AMERICA INC</td>\n",
       "      <td>081267392</td>\n",
       "      <td>K7ZHNF6YJMB3</td>\n",
       "      <td>2894705.00</td>\n",
       "      <td>HI</td>\n",
       "      <td>2022</td>\n",
       "    </tr>\n",
       "    <tr>\n",
       "      <th>4</th>\n",
       "      <td>d0241de6-18ac-7596-08f2-c90c556c36b9-C</td>\n",
       "      <td>GSI NORTH AMERICA INC</td>\n",
       "      <td>079386548</td>\n",
       "      <td>EHM2NWLJHSJ7</td>\n",
       "      <td>0.00</td>\n",
       "      <td>NJ</td>\n",
       "      <td>2022</td>\n",
       "    </tr>\n",
       "  </tbody>\n",
       "</table>\n",
       "</div>"
      ]
     },
     "execution_count": 5,
     "metadata": {},
     "output_type": "execute_result"
    }
   ],
   "execution_count": 5
  },
  {
   "metadata": {},
   "cell_type": "markdown",
   "source": "Output the data as a csv to the interim data folder",
   "id": "a68c36bb1496b50"
  },
  {
   "metadata": {
    "ExecuteTime": {
     "end_time": "2024-12-16T19:30:01.796370Z",
     "start_time": "2024-12-16T19:30:01.717186Z"
    }
   },
   "cell_type": "code",
   "source": [
    "from scripts.config import INTERIM_DATA_DIR\n",
    "all_awards.to_csv(f'{INTERIM_DATA_DIR}/award_data.csv', index=False)"
   ],
   "id": "8cabedfe82e5b9ce",
   "outputs": [],
   "execution_count": 6
  }
 ],
 "metadata": {
  "kernelspec": {
   "display_name": "Python 3 (ipykernel)",
   "language": "python",
   "name": "python3"
  },
  "language_info": {
   "codemirror_mode": {
    "name": "ipython",
    "version": 3
   },
   "file_extension": ".py",
   "mimetype": "text/x-python",
   "name": "python",
   "nbconvert_exporter": "python",
   "pygments_lexer": "ipython3",
   "version": "3.13.1"
  }
 },
 "nbformat": 4,
 "nbformat_minor": 5
}
